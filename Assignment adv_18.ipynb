{
 "cells": [
  {
   "cell_type": "code",
   "execution_count": null,
   "id": "9411bf0d",
   "metadata": {},
   "outputs": [],
   "source": [
    "1. Describe the differences between text and binary files in a single paragraph.\n",
    "Ans:- \n",
    "Text files are special subset of binary files that are used to store human readable characters as a rich text document or\n",
    "plain text document. Text files also store data in sequential bytes but bits in text file represents characters.\n",
    "\n",
    "Binary files are those typical files that store data in the form of sequence of bytes grouped into eight bits or sometimes \n",
    "sixteen bits. These bits represent custom data and such files can store multiple types of data (images, audio, text, etc) \n",
    "under a single file.\n",
    "\n",
    "2. What are some scenarios where using text files will be the better option? When would you like to\n",
    "use binary files instead of text files?\n",
    "Ans:- Text files are less prone to get corrupted as any undesired change may just show up once the file is opened and then \n",
    "    can easily be removed. Whereas Use binary files instead of text files for image data.\n",
    "    \n",
    "3. What are some of the issues with using binary operations to read and write a Python integer\n",
    "directly to disc?\n",
    "Ans:-  When we read or write a python integer using binary operations\n",
    "\n",
    "->Binary operations deal with raw data\n",
    "->One needs to identify how many bytes one would read or write.\n",
    "\n",
    "4. Describe a benefit of using the with keyword instead of explicitly opening a file.\n",
    "Ans:- A file is opened using the with keyword, if some exceptions occur after opening a file, or at the end of the file it\n",
    "    automatically does the closing of the file. There by not leaving an file in open mode and there would no need to\n",
    "    explicitly close a file.\n",
    "    \n",
    "5.Does Python have the trailing newline while reading a line of text? Does Python append a\n",
    "newline when you write a line of text?\n",
    "Ans:- Yes, Python have the trailing newline while reading a line of text. When we write a newline has to be provided in \n",
    "    python excpicitly.\n",
    "\n",
    "6. What file operations enable for random-access operation?\n",
    "Ans:-  The file operations enable for random-access operation are seek() and tell()\n",
    "    \n",
    "7. When do you think you'll use the struct package the most?\n",
    "Ans:- The struct package is mostly used while converting a common python types into C language types.\n",
    "\n",
    "8. When is pickling the best option?\n",
    "Ans:- Pickling is best option for creating a new binary file using python.\n",
    "    \n",
    "9. When will it be best to use the shelve package?\n",
    "Ans:- Shelve package is used to pickle data but treats the entire file as dictionary.\n",
    "    \n",
    "10. What is a special restriction when using the shelve package, as opposed to using other data\n",
    "dictionaries?\n",
    "Ans:- Only string data type can be used as key in this special dictionary object, whereas any picklable Python object can \n",
    "    be used as value."
   ]
  }
 ],
 "metadata": {
  "kernelspec": {
   "display_name": "Python 3 (ipykernel)",
   "language": "python",
   "name": "python3"
  },
  "language_info": {
   "codemirror_mode": {
    "name": "ipython",
    "version": 3
   },
   "file_extension": ".py",
   "mimetype": "text/x-python",
   "name": "python",
   "nbconvert_exporter": "python",
   "pygments_lexer": "ipython3",
   "version": "3.9.7"
  }
 },
 "nbformat": 4,
 "nbformat_minor": 5
}
