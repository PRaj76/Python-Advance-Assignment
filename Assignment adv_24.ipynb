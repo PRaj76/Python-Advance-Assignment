{
 "cells": [
  {
   "cell_type": "code",
   "execution_count": null,
   "id": "f81866de",
   "metadata": {},
   "outputs": [],
   "source": [
    "1.Is it permissible to use several import statements to import the same module? What would the\n",
    "goal be? Can you think of a situation where it would be beneficial?\n",
    "Ans:- Yes, it is permissible to use several import statements to import the same module. It is used in case when we have \n",
    "    to import multiple functions from same module.\n",
    "    \n",
    "2. What are some of a module's characteristics? (Name at least one.)\n",
    "Ans:-  The following are some of a module's characteristics:\n",
    "\n",
    "> __name__ : It returns the name of the module\n",
    "> __doc__ : It denotes the documentation string line written in a module code.\n",
    "> __file__ : It holds the name and path of the module file from which it is loaded\n",
    "> __dict__ : It return a dictionary object of module attributes, functions and other definitions and their respective \n",
    "values\n",
    "\n",
    "3. Circular importing, such as when two modules import each other, can lead to dependencies and\n",
    "bugs that aren't visible. How can you go about creating a program that avoids mutual importing?\n",
    "Ans:- Circular importing means importing the two modules in each other. If suppose we are wokring in MOD1.py file and it \n",
    "    is importing some function say F2() from some other module say MOD2.PY file or we can do vice-versa. What will happen \n",
    "    is: This will give an import error.\n",
    "\n",
    "This is because when we import F2() function from module MOD2.py, then this will execute MOD2.py file. And in MOD2.py file\n",
    "there is an another statement of importing MOD1.py module.\n",
    "\n",
    "This will result in endless loop. To avoid this error just do one thingWe can use if __name__ == '__main__'\n",
    "\n",
    "In the function, you can't directly refer to the function in the program. The addition of this sentence avoids the endless\n",
    "loop of the program .\n",
    "\n",
    "4. Why is __all__ in Python ?\n",
    "Ans:- It provides list of all modules present in a library.\n",
    "    \n",
    "5. In what situation is it useful to refer to the _ _name_ _ attribute or the string '_ _main_ _'?\n",
    "Ans:-During the time of execution of the code if we want to refer the module in which we are working on then we uses name\n",
    "    attribute. In that case it will return the module in which we are working on. Suppose if that moudle is being imported\n",
    "     from some other module then name will have the name of that moudle from where the current module has been imported. \n",
    "    The current module in which we are working is refer to the string __main __.\n",
    "    \n",
    "6.What are some of the benefits of attaching a program counter to the RPN interpreter\n",
    "application, which interprets an RPN script line by line?\n",
    "Ans:- Reverse Polish notation (RPN) is a method for conveying mathematical expressions without the use of separators such\n",
    "    as brackets and parentheses. In this notation, the operators follow their operands, hence removing the need for \n",
    "    brackets to define evaluation priority. The operation is read from left to right but execution is done every time an \n",
    "    operator is reached, and always using the last two numbers as the operands. This notation is suited for computers and \n",
    "    calculators since there are fewer characters to track and fewer operations to execute.\n",
    "    \n",
    "7. What are the minimum expressions or statements (or both) that you'd need to render a basic\n",
    "programming language like RPN primitive but complete— that is, capable of carrying out any\n",
    "computerised task theoretically possible?\n",
    "Ans:- An assignment statement always has a single variable on the left hand side. The value of the expression \n",
    "    (which can contain math operators and other variables) on the right of the = sign is stored in the variable on the \n",
    "    left.\n"
   ]
  }
 ],
 "metadata": {
  "kernelspec": {
   "display_name": "Python 3 (ipykernel)",
   "language": "python",
   "name": "python3"
  },
  "language_info": {
   "codemirror_mode": {
    "name": "ipython",
    "version": 3
   },
   "file_extension": ".py",
   "mimetype": "text/x-python",
   "name": "python",
   "nbconvert_exporter": "python",
   "pygments_lexer": "ipython3",
   "version": "3.9.7"
  }
 },
 "nbformat": 4,
 "nbformat_minor": 5
}
