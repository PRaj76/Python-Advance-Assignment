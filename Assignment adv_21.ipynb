{
 "cells": [
  {
   "cell_type": "code",
   "execution_count": null,
   "id": "ff050c78",
   "metadata": {},
   "outputs": [],
   "source": [
    "1. What is a probability distribution, exactly? If the values are meant to be random, how can you\n",
    "predict them at all?\n",
    "Ans:- A probability distribution describes how a random variable is distributed.\n",
    "\n",
    "It tells us which values a random variable is most likely to take on and which values are less likely.\n",
    "Based on the previous data and the occurences of the random event, we can predict the outcome in terms of probabilities.\n",
    "\n",
    "2. Is there a distinction between true random numbers and pseudo-random numbers, if there is\n",
    "one? Why are the latter considered “good enough”?\n",
    "Ans:- : True Random Numbers are true physical values while pseudo-random numbers are generated internally by a program . \n",
    "        Latter is considered good enough as they have sort of uniform distribution\n",
    "        \n",
    "3. What are the two main factors that influence the behaviour of a &quot;normal&quot; probability distribution?\n",
    "Ans:-  Normal Probability Distribution are influenced by two factors mean and the variance.\n",
    "    \n",
    "4. Provide a real-life example of a normal distribution.\n",
    "Ans-A Real-life example of a normal distribution are heights or blood pressure measurements.\n",
    "\n",
    "5. In the short term, how can you expect a probability distribution to behave? What do you think will\n",
    "happen as the number of trials grows?\n",
    "Ans:-  Variance will decrease with number of trials.\n",
    "    \n",
    "6. What kind of object can be shuffled by using random.shuffle?\n",
    "Ans:-  lists (list), strings (str) and tuples (tuple) objects can be shuffled by using random.shuffle.\n",
    "    \n",
    "7. Describe the math package's general categories of functions.\n",
    "Ans:- The Math package's general categories of functions are:\n",
    "\n",
    ">Trigonometric functions\n",
    ">Quadratic functions\n",
    ">Exponential functions\n",
    ">Periodic functions\n",
    ">Logarithimic functions\n",
    ">Conversions to Integer\n",
    "\n",
    "8. What is the relationship between exponentiation and logarithms?\n",
    "Ans:-  Exponentiation and logarithms are inverse of each other.\n",
    "    \n",
    "9.What are the three logarithmic functions that Python supports?\n",
    "Ans:- The Three Logarithmic Functions that Python supports are:\n",
    "\n",
    ">log2(x) - logarithmic value of x to base 2\n",
    ">log10(x) - logarithmic value of x to base 10\n",
    ">log1p(a) - This function is used to compute logarithm(1+a) ."
   ]
  }
 ],
 "metadata": {
  "kernelspec": {
   "display_name": "Python 3 (ipykernel)",
   "language": "python",
   "name": "python3"
  },
  "language_info": {
   "codemirror_mode": {
    "name": "ipython",
    "version": 3
   },
   "file_extension": ".py",
   "mimetype": "text/x-python",
   "name": "python",
   "nbconvert_exporter": "python",
   "pygments_lexer": "ipython3",
   "version": "3.9.7"
  }
 },
 "nbformat": 4,
 "nbformat_minor": 5
}
