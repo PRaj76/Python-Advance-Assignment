{
 "cells": [
  {
   "cell_type": "code",
   "execution_count": null,
   "id": "6c292896",
   "metadata": {},
   "outputs": [],
   "source": [
    "1.what is the meaning of multiple inheritance?\n",
    "Ans:-Multiple inheritance is a feature of some object-oriented computer programming languages in which an object or class\n",
    "    can inherit characteristics and features from more than one parent object or the parent class .\n",
    "\n",
    "2.What is the concept of delegation?\n",
    "Ans:- The delegation pattern is an object-oriented design pattern that allows object composition to achieve the same code \n",
    "    reuse as inheritance.\n",
    "    \n",
    "3.What is the concept of composition?\n",
    "Ans:-Composition is a concept that models a has a relationship. It enables creating complex types by combining objects of \n",
    "    other types. This means that a class Composite can contain an object of another class Component . This relationship means\n",
    "    that a Composite has a Component .\n",
    "    \n",
    "4. What are bound methods and how do we use them?\n",
    "Ans:- A bound method is the one which is dependent on the instance of the class as the first argument. It passes the instance\n",
    "    as the first argument which is used to access the variables and functions.\n",
    "\n",
    "5. What is the purpose of pseudoprivate attributes?\n",
    "Ans:- Pseudoprivate attributes are also useful in larger frameworks or tools, both to avoid introducing new method names \n",
    "    that might accidentally hide definitions elsewhere in the class tree and to reduce the chance of internal methods being \n",
    "    replaced by names defined lower in the tree"
   ]
  }
 ],
 "metadata": {
  "kernelspec": {
   "display_name": "Python 3 (ipykernel)",
   "language": "python",
   "name": "python3"
  },
  "language_info": {
   "codemirror_mode": {
    "name": "ipython",
    "version": 3
   },
   "file_extension": ".py",
   "mimetype": "text/x-python",
   "name": "python",
   "nbconvert_exporter": "python",
   "pygments_lexer": "ipython3",
   "version": "3.9.7"
  }
 },
 "nbformat": 4,
 "nbformat_minor": 5
}
