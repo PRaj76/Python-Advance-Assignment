{
 "cells": [
  {
   "cell_type": "code",
   "execution_count": null,
   "id": "f4695c74",
   "metadata": {},
   "outputs": [],
   "source": [
    "1. What is the purpose of the try statement?\n",
    "Ans:- Try statement is used for exception handling in python. it consists of a block of risky statements which might\n",
    "    cause an exception during runtime. if code within try block raises exception, then the exception will be reverted to \n",
    "    the corresponding except block if multiple except blocks are present, else it willbe reverted to the default except block.\n",
    "    In short try and except in union avoid programs from crashing during runtime due to exceptions.\n",
    "\n",
    "2. What are the two most popular try statement variations?\n",
    "Ans:- The try block is used to check code for exceptions during runtime. ie code inside try block will execute completely \n",
    "    when there is no error in the program. Whereas the code inside except block will execute whenever the program encounters \n",
    "    some error in the preceeding try block.\n",
    "    else block if and only if the try clause does not raise and exception. The code in the finally block will execute\n",
    "    irrespective of exception.\n",
    "    \n",
    "3.  What is the purpose of the raise statement?\n",
    "Ans:- Python raise Keyword is used to raise exceptions or errors. The raise keyword raises an error and stops the control \n",
    "    flow of the program. It is used to bring up the current exception in an exception handler so that it can be handled further\n",
    "    up the call stack.\n",
    "    \n",
    "4. What does the assert statement do, and what other statement is it like?\n",
    "Ans:- There are few assertions that programmer always want to be true to avoid code failure. This type of requirement is \n",
    "    fulfilled by assert statement. This statement takes a boolean condition output of which is True, Further Program Executes.\n",
    "    if output of assert statement is False, it raises an Assertion Error.\n",
    "    \n",
    "5. What is the purpose of the with/as argument, and what other statement is it like?\n",
    "Ans:- The advantage of using a with statement is that it is guaranteed to close the file no matter how the nested block exits. \n",
    "    If an exception occurs before the end of the block, it will close the file before the exception is caught by an outer\n",
    "    exception handler"
   ]
  }
 ],
 "metadata": {
  "kernelspec": {
   "display_name": "Python 3 (ipykernel)",
   "language": "python",
   "name": "python3"
  },
  "language_info": {
   "codemirror_mode": {
    "name": "ipython",
    "version": 3
   },
   "file_extension": ".py",
   "mimetype": "text/x-python",
   "name": "python",
   "nbconvert_exporter": "python",
   "pygments_lexer": "ipython3",
   "version": "3.9.7"
  }
 },
 "nbformat": 4,
 "nbformat_minor": 5
}
