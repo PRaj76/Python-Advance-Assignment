{
 "cells": [
  {
   "cell_type": "code",
   "execution_count": null,
   "id": "6f7f1251",
   "metadata": {},
   "outputs": [],
   "source": [
    "1. What is the distinction between a numpy array and a pandas data frame? Is there a way to\n",
    "convert between the two if there is?\n",
    "Ans:- Numpy Ndarray provides a lot of convenient and optimized methods for performing several mathematical operations on\n",
    "    vectors.\n",
    "Pandas Dataframe is an in-memory 2-dimensional tabular representation of data. In simpler words, it can be seen as a\n",
    "spreadsheet having rows and columns.\n",
    "Conversion : Dataframe=pandas.DataFrame(array)\n",
    "    \n",
    "2. What can go wrong when an user enters in a stock-ticker symbol, and how do you handle it?\n",
    "Ans:-I am coding a project in which the user inputs the ticker of a stock, and then the program scrapes information about \n",
    "    that stock from a specific website and returns the data. I have a fully working program, but an issue I have is that\n",
    "    if the user enters a nonexistent stock ticker, the program gives an error and stops working. How can I fix this? \n",
    "    Here is the relevant code segment for reference:\n",
    "    \n",
    "3. Identify some of the plotting techniques that are used to produce a stock-market chart.\n",
    "Ans:-Bar chart, Line Chart are used for plotting.\n",
    "    \n",
    "    \n",
    "4. Why is it essential to print a legend on a stock market chart?\n",
    "Ans:- Legend will help comparison between different stocks, so will be essential on a stock market chart\n",
    "    \n",
    "5. What is the best way to limit the length of a pandas data frame to less than a year?\n",
    "Ans:- We can use start and end parameters for that. In start we write the date from where we are starting and at the\n",
    "     end we write the end date. SO within this span we can restric the duration.Also we can use the parameters like periods\n",
    "    for how much times we need the duration and we can also use the frequency parameter.\n",
    "    \n",
    "6. What is the definition of a 180-day moving average?\n",
    "Ans:- The 180-day moving average is represented as a line on charts and represents the average price over the past 180 \n",
    "    days. The moving average can give traders a sense regarding whether the trend is up or down, while also identifying \n",
    "    potential support or resistance areas.\n",
    "    \n",
    "7.Did the chapter's final example use &quot;indirect&quot; importing? If so, how exactly do you do it?\n",
    "Ans:- So there's four different ways to import: Import the whole module using its original name: pycon import random.\n",
    "       Import specific things from the module: pycon from random import choice, randint. Import the whole module and rename \n",
    "        it, usually using a shorter variable name: pycon import pandas as pd.\n"
   ]
  }
 ],
 "metadata": {
  "kernelspec": {
   "display_name": "Python 3 (ipykernel)",
   "language": "python",
   "name": "python3"
  },
  "language_info": {
   "codemirror_mode": {
    "name": "ipython",
    "version": 3
   },
   "file_extension": ".py",
   "mimetype": "text/x-python",
   "name": "python",
   "nbconvert_exporter": "python",
   "pygments_lexer": "ipython3",
   "version": "3.9.7"
  }
 },
 "nbformat": 4,
 "nbformat_minor": 5
}
