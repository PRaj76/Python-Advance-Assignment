{
 "cells": [
  {
   "cell_type": "code",
   "execution_count": null,
   "id": "2216d1f4",
   "metadata": {},
   "outputs": [],
   "source": [
    "1. What are the new features added in Python 3.8 version?\n",
    "Ans:- Some New Features Added in Python 3.8 Version are:\n",
    "\n",
    "Walrus Operator: This operator is used to assign and return a value in the same expression. This removes the need for initializing the variable upfront. The major benefit of this is it saves some lines of code. It is also known as The Walrus Operator due to its similarity to the eyes and tusks of a walrus.\n",
    "\n",
    "yield and return statements do not require parentheses to return multiple values.\n",
    "\n",
    "Reversed works with a dictionary. The built-in method reversed() can be used for accessing the elements in the reverse order of insertion\n",
    "\n",
    "Dict comprehensions have been modified so that the key is computed first and the value second.\n",
    "\n",
    "importlib_metadata is a new library added in the Python’s standard utility modules, that provides an API for accessing an installed package’s metadata, such as its entry points or its top-level name.\n",
    "\n",
    "f-strings now support = , to make string interpolation easy. Python 3.8 allows the use of the above-discussed assignment operator and equal sign (=) inside the f-strings.\n",
    "\n",
    "In the three-argument form of pow(), when the exponent is -1, it calculates the modular multiplicative inverse of the given value\n",
    "\n",
    "The csv.DictReader now returns instances of dictionary instead of a collections.OrderedDict.\n",
    "\n",
    "If you miss a comma in your code such as a = [(1, 2) (3, 4)], instead of throwing TypeError, it displays an informative Syntax warning.\n",
    "\n",
    "2. What is monkey patching in Python?\n",
    "Ans:- In Python, the term monkey patch refers to dynamic (or run-time) modifications of a class or module. In Python, \n",
    "    we can actually change the behavior of code at run-time. We use above module (monk) in below code and change behavior \n",
    "    of func() at run-time by assigning different value.\n",
    "    \n",
    "3. What is the difference between a shallow copy and deep copy?\n",
    "Ans:-In Shallow copy, a copy of the original object is stored and only the reference address is finally copied. \n",
    "    In Deep copy, the copy of the original object and the repetitive copies both are stored.\n",
    "    \n",
    "4. What is the maximum possible length of an identifier?\n",
    "Ans:-  An identifier can have a maximum length of 79 characters in Python.\n",
    "    Python is one of the most popular programming languages. Guido van Rossum created it, and it was released in 1991. \n",
    "    The language is often used in web development (server-side), software development, mathematics, and system scripting. \n",
    "    The majority of modern operating systems are written in C, which means that compilers and interpreters are also \n",
    "    written in C. This is also true for Python; its most popular/traditional implementation is written in C and is known\n",
    "    as CPython. Regardless of whether you are an experienced programmer with C++, Java, or Python, Python is extremely \n",
    "    suitable for beginners.\n",
    "    \n",
    "5. What is generator comprehension?\n",
    "Ans:- A generator comprehension is a single-line specification for defining a generator in Python. It is absolutely\n",
    "    essential to learn this syntax in order to write simple and readable code. Note: Generator comprehensions are not\n",
    "        the only method for defining generators in Python"
   ]
  }
 ],
 "metadata": {
  "kernelspec": {
   "display_name": "Python 3 (ipykernel)",
   "language": "python",
   "name": "python3"
  },
  "language_info": {
   "codemirror_mode": {
    "name": "ipython",
    "version": 3
   },
   "file_extension": ".py",
   "mimetype": "text/x-python",
   "name": "python",
   "nbconvert_exporter": "python",
   "pygments_lexer": "ipython3",
   "version": "3.9.7"
  }
 },
 "nbformat": 4,
 "nbformat_minor": 5
}
