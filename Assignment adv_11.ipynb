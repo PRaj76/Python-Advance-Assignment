{
 "cells": [
  {
   "cell_type": "code",
   "execution_count": null,
   "id": "421cadda",
   "metadata": {},
   "outputs": [],
   "source": [
    "1.What is the concept of a metaclass?\n",
    "Ans:-  Metaclass in Python is a class of a class that defines how a class behaves. A class is itself a instance of Metaclass, \n",
    "    and any Instance of Class in Python is an Instance of type metaclass. \n",
    "    E.g. Type of of int, str, float, list, tuple and many more is of metaclass type.\n",
    "    \n",
    "2. What is the best way to declare a class's metaclass?\n",
    "Ans:- A metaclass in Python is a class of a class that defines how a class behaves. A class is itself an instance of a \n",
    "    metaclass. A class in Python defines how the instance of the class will behave. In order to understand metaclasses well, \n",
    "    one needs to have prior experience working with Python classes.\n",
    "    \n",
    "Example:-\n",
    "class meta(type):\n",
    "    pass\n",
    "class class_meta(metaclass=meta):\n",
    "    pass\n",
    "print(type(meta))\n",
    "print(type(class_meta))\n",
    "\n",
    "Output:-\n",
    "    <class 'type'>\n",
    "<class '__main__.meta'>\n",
    "\n",
    "3.How do class decorators overlap with metaclasses for handling classes?\n",
    "Ans:- Anything you can do with a class decorator, you can of course do with a custom metaclasses (just apply the functionality\n",
    "of the \"decorator function\", i.e., the one that takes a class object and modifies it, in the course of the\n",
    "metaclass's __new__ or __init__ that make the class object!).\n",
    "\n",
    "4.How do class decorators overlap with metaclasses for handling instances?\n",
    "Ans:-Anything you can do with a class decorator, you can of course do with a custom metaclass (just apply the functionality \n",
    "of the \"decorator function\", i.e., the one that takes a class object and modifies it, in the course of the\n",
    "metaclass's __new__ or __init__ that make the class object!).                                                                                                   \n",
    "                                                                                                  "
   ]
  }
 ],
 "metadata": {
  "kernelspec": {
   "display_name": "Python 3 (ipykernel)",
   "language": "python",
   "name": "python3"
  },
  "language_info": {
   "codemirror_mode": {
    "name": "ipython",
    "version": 3
   },
   "file_extension": ".py",
   "mimetype": "text/x-python",
   "name": "python",
   "nbconvert_exporter": "python",
   "pygments_lexer": "ipython3",
   "version": "3.9.7"
  }
 },
 "nbformat": 4,
 "nbformat_minor": 5
}
