{
 "cells": [
  {
   "cell_type": "code",
   "execution_count": null,
   "id": "ccd9a560",
   "metadata": {},
   "outputs": [],
   "source": [
    "1. What are the two latest user-defined exception constraints in Python 3.X?\n",
    "Ans:- raise and assert are the two latest user-defined exception constraints in Python 3.X\n",
    "    \n",
    "2. How are class-based exceptions that have been raised matched to handlers?\n",
    "Ans:- In python, Users can define custom exceptions by creating a new class. This exception class has to be derived, \n",
    "    either directly or indirectly from built-in Exception class. This new exception class like other exceptions can be\n",
    "    raised using the raise statement with an optional error message.\n",
    "    \n",
    "class ToYoungException(Exception):\n",
    "    def __init__(self,msg):\n",
    "        self.msg = msg\n",
    "age = 12\n",
    "if age <= 18: raise ToYoungException('To Young For Voting')\n",
    "    \n",
    "    \n",
    "   ---------------------------------------------------------------------------\n",
    "ToYoungException                          Traceback (most recent call last)\n",
    "C:\\Users\\PANKAJ~1\\AppData\\Local\\Temp/ipykernel_8604/624020757.py in <module>\n",
    "      3         self.msg = msg\n",
    "      4 age = 12\n",
    "----> 5 if age <= 18: raise ToYoungException('To Young For Voting')\n",
    "      6 \n",
    "\n",
    "ToYoungException: To Young For Voting\n",
    "    \n",
    "3. Describe two methods for attaching context information to exception artefacts.\n",
    "Ans:- The process() method of LoggerAdapter is where the contextual information is added to the logging output.\n",
    "    its passes the message and keyword arguments of the logging call, and it passes back modified versions of these to use in \n",
    "    the call to the underlying logger.\n",
    " \n",
    " Other method that can be used is exception(), Logs a messgae with level ERROR on this logger. The arguments are interpreted as\n",
    "    for debug(). Exception info is added to the logging message.\n",
    "    \n",
    "4. Describe two methods for specifying the text of an exception object's error message.\n",
    "Ans:- raise and assert are two methods for specifying the text of an exception object's error message.raise statement\n",
    "    is used to trigger explicit exception, if certain condition is not as per requirement of programmer. it helps in \n",
    "    triggering exception as per need of programmer and logic.\n",
    "\n",
    "There are few assertions that programmer always want to be True to avoid code failure. This type of requirment is \n",
    "fullfilled by assert statement. This statement takes a Boolean Condition output of which if True, further program executes.\n",
    "if output of assert statement is False it raises an Assertion Error.\n",
    "\n",
    "5. Why do you no longer use string-based exceptions?\n",
    "Ans:- String-based Exceptions doesn't inherit from Exceptions. so plain exceptions catch all exceptions and not only system."
   ]
  }
 ],
 "metadata": {
  "kernelspec": {
   "display_name": "Python 3 (ipykernel)",
   "language": "python",
   "name": "python3"
  },
  "language_info": {
   "codemirror_mode": {
    "name": "ipython",
    "version": 3
   },
   "file_extension": ".py",
   "mimetype": "text/x-python",
   "name": "python",
   "nbconvert_exporter": "python",
   "pygments_lexer": "ipython3",
   "version": "3.9.7"
  }
 },
 "nbformat": 4,
 "nbformat_minor": 5
}
