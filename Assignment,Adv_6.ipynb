{
 "cells": [
  {
   "cell_type": "code",
   "execution_count": null,
   "id": "9b25413f",
   "metadata": {},
   "outputs": [],
   "source": [
    "1.Describe three applications for exception processing.\n",
    "Ans:-  Exception Processing is important to find exceptions that causes the runtime error. \n",
    "    As runtime errors Halt the program execution when exception occurs.\n",
    "\n",
    "Exception Processing is used in Various Applications of which few examples are:\n",
    "\n",
    ".Checking Appropriate use of input in an application\n",
    ".Checking for Arithmetic exceptions in mathematical executions\n",
    ".Checking File I/O exceptions during File handling \n",
    "\n",
    "2. What happens if you don't  do something extra to treat an exception?\n",
    "Ans:- An exception object is created when a Python script raises an exception. If the script explicitly doesn't\n",
    "      handle the exception, the program will be forced to terminate abruptly.\n",
    "        \n",
    "3. What are your options for recovering from an exception in your script?\n",
    "Ans:- Python provides try and except statements for recovering from an exception in your script.\n",
    "    \n",
    "4. Describe two methods for triggering exceptions in your script.\n",
    "Ans:- raise and assert are two methods that can be used to trigger manual exceptions in your script.\n",
    "\n",
    ".raise method triggers an exception if condition provided to it turns out to be True.\n",
    ".assert will let the program to continue execution if condition provided to it turns out to be True else exception \n",
    "  will be raised.\n",
    "    \n",
    "5. Identify two methods for specifying actions to be executed at termination time, regardless of\n",
    "whether or not an exception exists.\n",
    "Ans:- else and finally blocks for specifying actions to be executed at termination time, regardless of whether an exceptions \n",
    "    exists or not.\n"
   ]
  }
 ],
 "metadata": {
  "kernelspec": {
   "display_name": "Python 3 (ipykernel)",
   "language": "python",
   "name": "python3"
  },
  "language_info": {
   "codemirror_mode": {
    "name": "ipython",
    "version": 3
   },
   "file_extension": ".py",
   "mimetype": "text/x-python",
   "name": "python",
   "nbconvert_exporter": "python",
   "pygments_lexer": "ipython3",
   "version": "3.9.7"
  }
 },
 "nbformat": 4,
 "nbformat_minor": 5
}
