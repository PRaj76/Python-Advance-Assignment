{
 "cells": [
  {
   "cell_type": "code",
   "execution_count": null,
   "id": "bd1246e9",
   "metadata": {},
   "outputs": [],
   "source": [
    "1.If you have any, what are your choices for increasing the comparison between different figures on\n",
    "the same graph?\n",
    "Ans:-  Matplotlib provides a convenient method called subplots for increasing the comparison between different figures on\n",
    "    the same graph. Subplots mean a group of smaller axes (where each axis is a plot) that can exist together within a \n",
    "    single figure.\n",
    "    \n",
    "2.Can you explain the benefit of compound interest over a higher rate of interest that does not\n",
    "compound after reading this chapter?\n",
    "Ans:- Compound interest makes a sum of money grow at a faster rate than simple interest,because in addition to earning \n",
    "    returns on the money you invest, you also earn returns on those returns at the end of every compounding period, which\n",
    "    could be daily, monthly, quarterly or annually.\n",
    "    \n",
    "3.What is a histogram, exactly? Name a numpy method for creating such a graph.\n",
    "Ans:- Histogram shows total values of X wrt Y. Which means at any particular position of X, Y value shows the total number\n",
    "    of counts or data below that value of X. numpy.histogram() is the built in function used.\n",
    "    \n",
    "4.If necessary, how do you change the aspect ratios between the X and Y axes?\n",
    "Ans:- We can use figure(figsize=(10,8)) function inside the matplot.pyplot library which we scale down or up the graph.\n",
    "\n",
    "5.Compare and contrast the three types of array multiplication between two numpy arrays: dot\n",
    "product, outer product, and regular multiplication of two numpy arrays.\n",
    "Ans:- : In regular multiplication values of same index get multiplied.\n",
    "\n",
    ">In dot product there is row wise multiplication, row of one array with column of second array and so on.\n",
    ">In outer multiplication every element of first array a1 will be multiply by every element of other array a2 such such the\n",
    "number of columns will be equal to the number of element in another array a2.\n",
    "\n",
    "6.Before you buy a home, which numpy function will you use to measure your monthly mortgage\n",
    "payment?\n",
    "Ans:- np.pmt(rate, nper, pv) function we will be using in order to calculate monthly mortgage payment before you purchase a house.\n",
    "\n",
    ">rate = The periodic interest rate\n",
    ">nper = The number of payment periods\n",
    ">pv = The total value of the mortgage loan\n",
    "\n",
    "7.Can string data be stored in numpy arrays? If so, list at least one restriction that applies to this\n",
    "data.\n",
    "Ans:-  Yes, an array can store the string. The limitation which imposed on the string data is, whenever we store the data\n",
    "    of string dtype then it should should keep in mind that the string which is having the maximum length is the limit."
   ]
  }
 ],
 "metadata": {
  "kernelspec": {
   "display_name": "Python 3 (ipykernel)",
   "language": "python",
   "name": "python3"
  },
  "language_info": {
   "codemirror_mode": {
    "name": "ipython",
    "version": 3
   },
   "file_extension": ".py",
   "mimetype": "text/x-python",
   "name": "python",
   "nbconvert_exporter": "python",
   "pygments_lexer": "ipython3",
   "version": "3.9.7"
  }
 },
 "nbformat": 4,
 "nbformat_minor": 5
}
