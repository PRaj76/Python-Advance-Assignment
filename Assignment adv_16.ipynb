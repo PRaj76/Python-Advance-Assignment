{
 "cells": [
  {
   "cell_type": "code",
   "execution_count": null,
   "id": "66af68dc",
   "metadata": {},
   "outputs": [],
   "source": [
    "1. What is the benefit of regular expressions?\n",
    "Ans:- Regular Expressions, also known as regex or regexp, are used to match strings of text such as particular characters,\n",
    "    words, or patterns of characters. It means that we can match and extract any string pattern from the text with the\n",
    "    help of regular expressions. it helps the programmers to Write less and cleaner code. it also avoids multiple use of\n",
    "    if/else statements.\n",
    "2. Describe the difference between the effects of \"(ab)c+\" and \"a(bc)+\". which of these,if any, is the unqualified pattern\n",
    "   \"abc+\"?\n",
    "Ans:- Both (ab)c+ and a(bc)+ are valid patterns. the difference between both these patterns is in (ab)c+ ab is group \n",
    "    whereas in a(bc)+ bc is a group.\n",
    "    \n",
    "3.How much do you need to use the following sentence while using regular expressions?\n",
    "\n",
    "import re\n",
    " \n",
    "Ans:- import re statement always has to be imported before using regular expressions.\n",
    "\n",
    "4. Which characters have special significance in square brackets when expressing a range, and\n",
    "under what circumstances?\n",
    "Ans:-  The Characters .,*,?,^,or,(), have a special signiface when used with square brackets. They need not be be \n",
    "    explicitly escaped by \\ as in case of pattern texts in a raw string.\n",
    "    \n",
    "5. How does compiling a regular-expression object benefit you?\n",
    "Ans:- We can combine a regular expression pattern into pattern objects, which can be used for pattern matching. \n",
    "    It also helps to search a pattern again without rewriting it\n",
    "    \n",
    "6. What are some examples of how to use the match object returned by re.match and re.search?\n",
    "Ans:-  The re.search() and re.match() both are functions of re module in python. These functions are very efficient and \n",
    "    fast for searching in strings. The function searches for some substring in a string and returns a match object if \n",
    "    found, else it returns none.\n",
    "There is a difference between the use of both functions. Both return the first match of a substring found in the string, \n",
    "but re.match() searches only from the beginning of the string and return match object if found. But if a match of \n",
    "substring is found somewhere in the middle of the string, it returns none.\n",
    "While re.search() searches for the whole string even if the string contains multi-lines and tries to find a match of \n",
    "the substring in all the lines of string\n",
    "\n",
    "7. What is the difference between using a vertical bar (|) as an alteration and using square brackets\n",
    "as a character set?\n",
    "Ans:- When | us used then patterns searches for or option. i.e <pattern_1>|<pattern_2> means it searches as\n",
    "    <pattern_1>or<<pattern_2> in the searched string. the first occurance of matched string will be returned as the Match \n",
    "    Object. Using Character set in square Brackets searches for all the character set in the square bracket and if match \n",
    "    is found, it returns it.\n",
    "    \n",
    "8. In regular-expression search patterns, why is it necessary to use the raw-string indicator (r)? In  \n",
    "replacement strings?\n",
    "Ans:- Raw Strings are used in the regular-expression search patterns, so that blackslashes donot have to be escaped.\n",
    "    "
   ]
  }
 ],
 "metadata": {
  "kernelspec": {
   "display_name": "Python 3 (ipykernel)",
   "language": "python",
   "name": "python3"
  },
  "language_info": {
   "codemirror_mode": {
    "name": "ipython",
    "version": 3
   },
   "file_extension": ".py",
   "mimetype": "text/x-python",
   "name": "python",
   "nbconvert_exporter": "python",
   "pygments_lexer": "ipython3",
   "version": "3.9.7"
  }
 },
 "nbformat": 4,
 "nbformat_minor": 5
}
