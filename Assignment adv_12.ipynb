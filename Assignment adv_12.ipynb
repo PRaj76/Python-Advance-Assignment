{
 "cells": [
  {
   "cell_type": "code",
   "execution_count": 1,
   "id": "11eaf9ee",
   "metadata": {},
   "outputs": [
    {
     "ename": "SyntaxError",
     "evalue": "invalid character '’' (U+2019) (Temp/ipykernel_8644/1747591348.py, line 2)",
     "output_type": "error",
     "traceback": [
      "\u001b[1;36m  File \u001b[1;32m\"C:\\Users\\PANKAJ~1\\AppData\\Local\\Temp/ipykernel_8644/1747591348.py\"\u001b[1;36m, line \u001b[1;32m2\u001b[0m\n\u001b[1;33m    Ans:- String’s indexed character cannot to be assigned a New value , as Strings are immutable.\u001b[0m\n\u001b[1;37m                ^\u001b[0m\n\u001b[1;31mSyntaxError\u001b[0m\u001b[1;31m:\u001b[0m invalid character '’' (U+2019)\n"
     ]
    }
   ],
   "source": [
    "1. Does assigning a value to a string's indexed character violate Python's string immutability?\n",
    "Ans:- String’s indexed character cannot to be assigned a New value , as Strings are immutable.\n",
    "Example:-\n",
    "name = \"Reinforcement\"\n",
    "print(id(name)) #73472\n",
    "name[0] = \"V\" # Raises TypeError A Character in string can be indexed using string name followed by index number of character in square bracket. Positive Indexing i.e. first index is 0 an so on, or Negative Indexing i.e. last letter is -1 and so on can be used to index a character\n",
    "\n",
    "2. Does using the += operator to concatenate strings violate Python&#39;s string immutability? Why or\n",
    "why not?\n",
    "Ans:- It violates the rules of how ID values and += are supposed to work - the ID values produced with\n",
    "    the optimization in place would be not only impossible, but prohibited, with the unoptimized semantics - but the developers\n",
    "    care more about people who would see bad concatenation performance and assume Python sucks.\n",
    "    \n",
    "3. In Python, how many different ways are there to index a character?\n",
    "Ans:- A Character in string can be indexed using string name followed by index number of character in square bracket.\n",
    "    Positive Indexing i.e. first index is 0 an so on, or Negative Indexing i.e. last letter is -1 and so on can be used to\n",
    "    index a character.\n",
    "    \n",
    "4. What is the relationship between indexing and slicing?\n",
    "Ans:- “Indexing” means referring to an element of an iterable by its position within the iterable. “Slicing” means getting \n",
    "    a subset of elements from an iterable based on their indices.\n",
    "    \n",
    "Exmaple:-\n",
    "in_string = \"iNeuron Full Stack Data Science\"\n",
    "print(in_string[1],in_string[3],in_string[5]) # Indexing\n",
    "print(in_string[1:15]) # Slicing\n",
    "\n",
    "    \n",
    "5. What is an indexed character's exact data type? What is the data form of a slicing-generated\n",
    "substring?\n",
    "Ans:- Indexed characters and sliced substrings have datatype String.\n",
    "    \n",
    "Example:-\n",
    "in_string = \"iNeuron Full Stack Data Science\"\n",
    "print(type(in_string[3])) # Indexing -> str\n",
    "print(type(in_string[1:10])) # Indexing -> str\n",
    "\n",
    "\n",
    "6. What is the relationship between string and character\"types\"  in Python?\n",
    "Ans:- Object that contains sequence of character datatypes are called String.\n",
    "    \n",
    "7. Identify at least two operators and one method that allow you to combine one or more smaller\n",
    "strings to create a larger string.\n",
    "Ans:- +, += and * allow to combine one or more smaller strings to create a larger string. <string>.join(<sep>) method joins \n",
    "    element of iterable type like list and tuple to get a combined string.\n",
    "\n",
    "    \n",
    "8. What is the benefit of first checking the target string with in or not in before using the index\n",
    "method to find a substring?\n",
    "Ans:- Checking the target string with in or not Operators before using the index method to find a substring just helps \n",
    "    confirming availability of substring and thus avoid raising of ValueError.\n",
    "Example:-\n",
    "in_string = \"ineuron\"\n",
    "in_string.index('x') # Raises ValueError\n",
    "in_string.index('u') # 3\n",
    "\n",
    "9.Which operators and built-in string methods produce simple Boolean (true/false) results?\n",
    "Ans:- The String Operators and built-in methods to Produce Simple Boolean (True/False) Results are:\n",
    "\n",
    "in\n",
    "not\n",
    "<string>.isalpha()\n",
    "<string>.isalnum()\n",
    "<string>.isdecimal()\n",
    "<string>.isdigit()\n",
    "<string>.islower()\n",
    "<string>.isnumeric()\n",
    "<string>.isprintable()\n",
    "<string>.isspace()\n",
    "<string>.istitle()"
   ]
  }
 ],
 "metadata": {
  "kernelspec": {
   "display_name": "Python 3 (ipykernel)",
   "language": "python",
   "name": "python3"
  },
  "language_info": {
   "codemirror_mode": {
    "name": "ipython",
    "version": 3
   },
   "file_extension": ".py",
   "mimetype": "text/x-python",
   "name": "python",
   "nbconvert_exporter": "python",
   "pygments_lexer": "ipython3",
   "version": "3.9.7"
  }
 },
 "nbformat": 4,
 "nbformat_minor": 5
}
